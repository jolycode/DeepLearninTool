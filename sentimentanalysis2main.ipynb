{
  "nbformat": 4,
  "nbformat_minor": 0,
  "metadata": {
    "colab": {
      "provenance": []
    },
    "kernelspec": {
      "name": "python3",
      "display_name": "Python 3"
    },
    "language_info": {
      "name": "python"
    }
  },
  "cells": [
    {
      "cell_type": "code",
      "execution_count": null,
      "metadata": {
        "colab": {
          "base_uri": "https://localhost:8080/"
        },
        "id": "Apf0LH8-evwN",
        "outputId": "64799ce6-5d51-4e11-b830-debce224b41b"
      },
      "outputs": [
        {
          "output_type": "stream",
          "name": "stdout",
          "text": [
            "Colab only includes TensorFlow 2.x; %tensorflow_version has no effect.\n"
          ]
        }
      ],
      "source": [
        "%tensorflow_version 2.x\n",
        "from tensorflow.keras.models import Sequential\n",
        "from tensorflow.keras.layers import Dense, Embedding, MaxPooling1D, Conv1D, GlobalMaxPooling1D, Dropout, LSTM, GRU\n",
        "from tensorflow.keras import utils\n",
        "from tensorflow.keras.preprocessing.sequence import pad_sequences\n",
        "from tensorflow.keras.preprocessing.text import Tokenizer\n",
        "from tensorflow.keras.callbacks import ModelCheckpoint\n",
        "from tensorflow.keras import utils\n",
        "import pandas as pd\n",
        "import numpy as np\n",
        "import matplotlib.pyplot as plt\n",
        "%matplotlib inline"
      ]
    },
    {
      "cell_type": "code",
      "source": [
        "!gdown --id 1DCN9d2SSKokvYqjowCllXtyBdZksm6W7"
      ],
      "metadata": {
        "colab": {
          "base_uri": "https://localhost:8080/"
        },
        "id": "XZwnY-2afP2V",
        "outputId": "aba7b96f-74e3-4aeb-c3da-9e5bd54d9e98"
      },
      "execution_count": null,
      "outputs": [
        {
          "output_type": "stream",
          "name": "stdout",
          "text": [
            "/usr/local/lib/python3.10/dist-packages/gdown/cli.py:121: FutureWarning: Option `--id` was deprecated in version 4.3.1 and will be removed in 5.0. You don't need to pass it anymore to use a file ID.\n",
            "  warnings.warn(\n",
            "Downloading...\n",
            "From: https://drive.google.com/uc?id=1DCN9d2SSKokvYqjowCllXtyBdZksm6W7\n",
            "To: /content/twitter_training.csv.zip\n",
            "100% 2.02M/2.02M [00:00<00:00, 192MB/s]\n"
          ]
        }
      ]
    },
    {
      "cell_type": "code",
      "source": [
        "!gdown --id 1q9325AXgdrZYf_CjpFkyVHl02YL_n2nh"
      ],
      "metadata": {
        "colab": {
          "base_uri": "https://localhost:8080/"
        },
        "id": "zLqrULzQfP5Y",
        "outputId": "df38eba3-8edf-4a32-adab-350978d3fd86"
      },
      "execution_count": null,
      "outputs": [
        {
          "output_type": "stream",
          "name": "stdout",
          "text": [
            "/usr/local/lib/python3.10/dist-packages/gdown/cli.py:121: FutureWarning: Option `--id` was deprecated in version 4.3.1 and will be removed in 5.0. You don't need to pass it anymore to use a file ID.\n",
            "  warnings.warn(\n",
            "Downloading...\n",
            "From: https://drive.google.com/uc?id=1q9325AXgdrZYf_CjpFkyVHl02YL_n2nh\n",
            "To: /content/twitter_validation.csv\n",
            "100% 164k/164k [00:00<00:00, 114MB/s]\n"
          ]
        }
      ]
    },
    {
      "cell_type": "code",
      "source": [
        "!unzip -q twitter_training.csv.zip"
      ],
      "metadata": {
        "colab": {
          "base_uri": "https://localhost:8080/"
        },
        "id": "0ToK6jujfP8D",
        "outputId": "271c6618-b5c6-4eb8-f8b5-1344807e9d08"
      },
      "execution_count": null,
      "outputs": [
        {
          "output_type": "stream",
          "name": "stdout",
          "text": [
            "replace twitter_training.csv? [y]es, [n]o, [A]ll, [N]one, [r]ename: y\n"
          ]
        }
      ]
    },
    {
      "cell_type": "code",
      "source": [
        "!gdown --id 1rOcuH9ovXUzelE-fnRuJASB58_Wh_iM8"
      ],
      "metadata": {
        "colab": {
          "base_uri": "https://localhost:8080/"
        },
        "id": "uf2GyBMsfda6",
        "outputId": "98ba78bb-5ede-4c4c-df1a-72838f2b3db6"
      },
      "execution_count": null,
      "outputs": [
        {
          "output_type": "stream",
          "name": "stdout",
          "text": [
            "/usr/local/lib/python3.10/dist-packages/gdown/cli.py:121: FutureWarning: Option `--id` was deprecated in version 4.3.1 and will be removed in 5.0. You don't need to pass it anymore to use a file ID.\n",
            "  warnings.warn(\n",
            "Downloading...\n",
            "From: https://drive.google.com/uc?id=1rOcuH9ovXUzelE-fnRuJASB58_Wh_iM8\n",
            "To: /content/classes.txt\n",
            "100% 39.0/39.0 [00:00<00:00, 195kB/s]\n"
          ]
        }
      ]
    },
    {
      "cell_type": "code",
      "source": [
        "!head twitter_validation.csv"
      ],
      "metadata": {
        "colab": {
          "base_uri": "https://localhost:8080/"
        },
        "id": "Yf1ZwidqfdgB",
        "outputId": "7bcbf8de-dba0-4d9d-bd10-60fd07861d7f"
      },
      "execution_count": null,
      "outputs": [
        {
          "output_type": "stream",
          "name": "stdout",
          "text": [
            "3364,Facebook,Irrelevant,\"I mentioned on Facebook that I was struggling for motivation to go for a run the other day, which has been translated by Tom’s great auntie as ‘Hayley can’t get out of bed’ and told to his grandma, who now thinks I’m a lazy, terrible person 🤣\"\r\n",
            "352,Amazon,Neutral,BBC News - Amazon boss Jeff Bezos rejects claims company acted like a 'drug dealer' bbc.co.uk/news/av/busine…\r\n",
            "8312,Microsoft,Negative,@Microsoft Why do I pay for WORD when it functions so poorly on my @SamsungUS Chromebook? 🙄\r\n",
            "4371,CS-GO,Negative,\"CSGO matchmaking is so full of closet hacking, it's a truly awful game.\"\r\n",
            "4433,Google,Neutral,Now the President is slapping Americans in the face that he really did commit an unlawful act after his  acquittal! From Discover on Google vanityfair.com/news/2020/02/t…\r\n",
            "6273,FIFA,Negative,\"Hi @EAHelp I’ve had Madeleine McCann in my cellar for the past 13 years and the little sneaky thing just escaped whilst I was loading up some fifa points, she took my card and I’m having to use my paypal account but it isn’t working, can you help me resolve it please?\"\r\n",
            "7925,MaddenNFL,Positive,\"Thank you @EAMaddenNFL!! \n",
            "\n",
            "New TE Austin Hooper in the ORANGE & BROWN!! \n",
            "\n"
          ]
        }
      ]
    },
    {
      "cell_type": "code",
      "source": [
        "!wc -l twitter_validation.csv"
      ],
      "metadata": {
        "colab": {
          "base_uri": "https://localhost:8080/"
        },
        "id": "zRVv_Bk0fl6G",
        "outputId": "63cc0046-c6a2-46d8-b686-c471357019d5"
      },
      "execution_count": null,
      "outputs": [
        {
          "output_type": "stream",
          "name": "stdout",
          "text": [
            "1758 twitter_validation.csv\n"
          ]
        }
      ]
    },
    {
      "cell_type": "code",
      "source": [
        "train = pd.read_csv('twitter_validation.csv',\n",
        "                    header=None,\n",
        "                    names=[ 'title', 'class' ,'text'])"
      ],
      "metadata": {
        "id": "grWZnz8rfl8i"
      },
      "execution_count": null,
      "outputs": []
    },
    {
      "cell_type": "code",
      "source": [
        "train = train[['class', 'title', 'text']]"
      ],
      "metadata": {
        "id": "btXc7DCefl_T"
      },
      "execution_count": null,
      "outputs": []
    },
    {
      "cell_type": "code",
      "source": [
        "train = train[['class', 'title', 'text']]"
      ],
      "metadata": {
        "id": "XSudM_CjgJB4"
      },
      "execution_count": null,
      "outputs": []
    },
    {
      "cell_type": "code",
      "source": [
        "train"
      ],
      "metadata": {
        "colab": {
          "base_uri": "https://localhost:8080/",
          "height": 423
        },
        "id": "gY9AbXHrgJEm",
        "outputId": "7f798252-2250-45db-a3b6-212d9951bf10"
      },
      "execution_count": null,
      "outputs": [
        {
          "output_type": "execute_result",
          "data": {
            "text/plain": [
              "      class                title  \\\n",
              "3364      1             Facebook   \n",
              "352       4               Amazon   \n",
              "8312      2            Microsoft   \n",
              "4371      2                CS-GO   \n",
              "4433      4               Google   \n",
              "...     ...                  ...   \n",
              "4891      1  GrandTheftAuto(GTA)   \n",
              "4359      1                CS-GO   \n",
              "2652      3          Borderlands   \n",
              "8069      3            Microsoft   \n",
              "6960      4      johnson&johnson   \n",
              "\n",
              "                                                   text  \n",
              "3364  I mentioned on Facebook that I was struggling ...  \n",
              "352   BBC News - Amazon boss Jeff Bezos rejects clai...  \n",
              "8312  @Microsoft Why do I pay for WORD when it funct...  \n",
              "4371  CSGO matchmaking is so full of closet hacking,...  \n",
              "4433  Now the President is slapping Americans in the...  \n",
              "...                                                 ...  \n",
              "4891  ⭐️ Toronto is the arts and culture capital of ...  \n",
              "4359  tHIS IS ACTUALLY A GOOD MOVE TOT BRING MORE VI...  \n",
              "2652  Today sucked so it’s time to drink wine n play...  \n",
              "8069  Bought a fraction of Microsoft today. Small wins.  \n",
              "6960  Johnson & Johnson to stop selling talc baby po...  \n",
              "\n",
              "[1000 rows x 3 columns]"
            ],
            "text/html": [
              "\n",
              "  <div id=\"df-4c6451ad-fa75-4786-8a9a-4eef8e0cdacd\">\n",
              "    <div class=\"colab-df-container\">\n",
              "      <div>\n",
              "<style scoped>\n",
              "    .dataframe tbody tr th:only-of-type {\n",
              "        vertical-align: middle;\n",
              "    }\n",
              "\n",
              "    .dataframe tbody tr th {\n",
              "        vertical-align: top;\n",
              "    }\n",
              "\n",
              "    .dataframe thead th {\n",
              "        text-align: right;\n",
              "    }\n",
              "</style>\n",
              "<table border=\"1\" class=\"dataframe\">\n",
              "  <thead>\n",
              "    <tr style=\"text-align: right;\">\n",
              "      <th></th>\n",
              "      <th>class</th>\n",
              "      <th>title</th>\n",
              "      <th>text</th>\n",
              "    </tr>\n",
              "  </thead>\n",
              "  <tbody>\n",
              "    <tr>\n",
              "      <th>3364</th>\n",
              "      <td>1</td>\n",
              "      <td>Facebook</td>\n",
              "      <td>I mentioned on Facebook that I was struggling ...</td>\n",
              "    </tr>\n",
              "    <tr>\n",
              "      <th>352</th>\n",
              "      <td>4</td>\n",
              "      <td>Amazon</td>\n",
              "      <td>BBC News - Amazon boss Jeff Bezos rejects clai...</td>\n",
              "    </tr>\n",
              "    <tr>\n",
              "      <th>8312</th>\n",
              "      <td>2</td>\n",
              "      <td>Microsoft</td>\n",
              "      <td>@Microsoft Why do I pay for WORD when it funct...</td>\n",
              "    </tr>\n",
              "    <tr>\n",
              "      <th>4371</th>\n",
              "      <td>2</td>\n",
              "      <td>CS-GO</td>\n",
              "      <td>CSGO matchmaking is so full of closet hacking,...</td>\n",
              "    </tr>\n",
              "    <tr>\n",
              "      <th>4433</th>\n",
              "      <td>4</td>\n",
              "      <td>Google</td>\n",
              "      <td>Now the President is slapping Americans in the...</td>\n",
              "    </tr>\n",
              "    <tr>\n",
              "      <th>...</th>\n",
              "      <td>...</td>\n",
              "      <td>...</td>\n",
              "      <td>...</td>\n",
              "    </tr>\n",
              "    <tr>\n",
              "      <th>4891</th>\n",
              "      <td>1</td>\n",
              "      <td>GrandTheftAuto(GTA)</td>\n",
              "      <td>⭐️ Toronto is the arts and culture capital of ...</td>\n",
              "    </tr>\n",
              "    <tr>\n",
              "      <th>4359</th>\n",
              "      <td>1</td>\n",
              "      <td>CS-GO</td>\n",
              "      <td>tHIS IS ACTUALLY A GOOD MOVE TOT BRING MORE VI...</td>\n",
              "    </tr>\n",
              "    <tr>\n",
              "      <th>2652</th>\n",
              "      <td>3</td>\n",
              "      <td>Borderlands</td>\n",
              "      <td>Today sucked so it’s time to drink wine n play...</td>\n",
              "    </tr>\n",
              "    <tr>\n",
              "      <th>8069</th>\n",
              "      <td>3</td>\n",
              "      <td>Microsoft</td>\n",
              "      <td>Bought a fraction of Microsoft today. Small wins.</td>\n",
              "    </tr>\n",
              "    <tr>\n",
              "      <th>6960</th>\n",
              "      <td>4</td>\n",
              "      <td>johnson&amp;johnson</td>\n",
              "      <td>Johnson &amp; Johnson to stop selling talc baby po...</td>\n",
              "    </tr>\n",
              "  </tbody>\n",
              "</table>\n",
              "<p>1000 rows × 3 columns</p>\n",
              "</div>\n",
              "      <button class=\"colab-df-convert\" onclick=\"convertToInteractive('df-4c6451ad-fa75-4786-8a9a-4eef8e0cdacd')\"\n",
              "              title=\"Convert this dataframe to an interactive table.\"\n",
              "              style=\"display:none;\">\n",
              "        \n",
              "  <svg xmlns=\"http://www.w3.org/2000/svg\" height=\"24px\"viewBox=\"0 0 24 24\"\n",
              "       width=\"24px\">\n",
              "    <path d=\"M0 0h24v24H0V0z\" fill=\"none\"/>\n",
              "    <path d=\"M18.56 5.44l.94 2.06.94-2.06 2.06-.94-2.06-.94-.94-2.06-.94 2.06-2.06.94zm-11 1L8.5 8.5l.94-2.06 2.06-.94-2.06-.94L8.5 2.5l-.94 2.06-2.06.94zm10 10l.94 2.06.94-2.06 2.06-.94-2.06-.94-.94-2.06-.94 2.06-2.06.94z\"/><path d=\"M17.41 7.96l-1.37-1.37c-.4-.4-.92-.59-1.43-.59-.52 0-1.04.2-1.43.59L10.3 9.45l-7.72 7.72c-.78.78-.78 2.05 0 2.83L4 21.41c.39.39.9.59 1.41.59.51 0 1.02-.2 1.41-.59l7.78-7.78 2.81-2.81c.8-.78.8-2.07 0-2.86zM5.41 20L4 18.59l7.72-7.72 1.47 1.35L5.41 20z\"/>\n",
              "  </svg>\n",
              "      </button>\n",
              "      \n",
              "  <style>\n",
              "    .colab-df-container {\n",
              "      display:flex;\n",
              "      flex-wrap:wrap;\n",
              "      gap: 12px;\n",
              "    }\n",
              "\n",
              "    .colab-df-convert {\n",
              "      background-color: #E8F0FE;\n",
              "      border: none;\n",
              "      border-radius: 50%;\n",
              "      cursor: pointer;\n",
              "      display: none;\n",
              "      fill: #1967D2;\n",
              "      height: 32px;\n",
              "      padding: 0 0 0 0;\n",
              "      width: 32px;\n",
              "    }\n",
              "\n",
              "    .colab-df-convert:hover {\n",
              "      background-color: #E2EBFA;\n",
              "      box-shadow: 0px 1px 2px rgba(60, 64, 67, 0.3), 0px 1px 3px 1px rgba(60, 64, 67, 0.15);\n",
              "      fill: #174EA6;\n",
              "    }\n",
              "\n",
              "    [theme=dark] .colab-df-convert {\n",
              "      background-color: #3B4455;\n",
              "      fill: #D2E3FC;\n",
              "    }\n",
              "\n",
              "    [theme=dark] .colab-df-convert:hover {\n",
              "      background-color: #434B5C;\n",
              "      box-shadow: 0px 1px 3px 1px rgba(0, 0, 0, 0.15);\n",
              "      filter: drop-shadow(0px 1px 2px rgba(0, 0, 0, 0.3));\n",
              "      fill: #FFFFFF;\n",
              "    }\n",
              "  </style>\n",
              "\n",
              "      <script>\n",
              "        const buttonEl =\n",
              "          document.querySelector('#df-4c6451ad-fa75-4786-8a9a-4eef8e0cdacd button.colab-df-convert');\n",
              "        buttonEl.style.display =\n",
              "          google.colab.kernel.accessAllowed ? 'block' : 'none';\n",
              "\n",
              "        async function convertToInteractive(key) {\n",
              "          const element = document.querySelector('#df-4c6451ad-fa75-4786-8a9a-4eef8e0cdacd');\n",
              "          const dataTable =\n",
              "            await google.colab.kernel.invokeFunction('convertToInteractive',\n",
              "                                                     [key], {});\n",
              "          if (!dataTable) return;\n",
              "\n",
              "          const docLinkHtml = 'Like what you see? Visit the ' +\n",
              "            '<a target=\"_blank\" href=https://colab.research.google.com/notebooks/data_table.ipynb>data table notebook</a>'\n",
              "            + ' to learn more about interactive tables.';\n",
              "          element.innerHTML = '';\n",
              "          dataTable['output_type'] = 'display_data';\n",
              "          await google.colab.output.renderOutput(dataTable, element);\n",
              "          const docLink = document.createElement('div');\n",
              "          docLink.innerHTML = docLinkHtml;\n",
              "          element.appendChild(docLink);\n",
              "        }\n",
              "      </script>\n",
              "    </div>\n",
              "  </div>\n",
              "  "
            ]
          },
          "metadata": {},
          "execution_count": 63
        }
      ]
    },
    {
      "cell_type": "code",
      "source": [
        "news = train['text'].astype(str)\n",
        "news[:5]"
      ],
      "metadata": {
        "id": "TzDupitXgWPd",
        "colab": {
          "base_uri": "https://localhost:8080/"
        },
        "outputId": "9f1c4cff-6fe0-4bc6-cf66-1d7607cfbe46"
      },
      "execution_count": null,
      "outputs": [
        {
          "output_type": "execute_result",
          "data": {
            "text/plain": [
              "3364    I mentioned on Facebook that I was struggling ...\n",
              "352     BBC News - Amazon boss Jeff Bezos rejects clai...\n",
              "8312    @Microsoft Why do I pay for WORD when it funct...\n",
              "4371    CSGO matchmaking is so full of closet hacking,...\n",
              "4433    Now the President is slapping Americans in the...\n",
              "Name: text, dtype: object"
            ]
          },
          "metadata": {},
          "execution_count": 64
        }
      ]
    },
    {
      "cell_type": "code",
      "source": [
        "num_words = 100000\n",
        "max_news_len = 170\n",
        "nb_classes = 4"
      ],
      "metadata": {
        "id": "B-D8K0Vygtzt"
      },
      "execution_count": null,
      "outputs": []
    },
    {
      "cell_type": "code",
      "source": [
        "y_train = utils.to_categorical(train['class'] - 1, nb_classes)"
      ],
      "metadata": {
        "id": "U5S9RawLhDju"
      },
      "execution_count": null,
      "outputs": []
    },
    {
      "cell_type": "code",
      "source": [
        "from sklearn.preprocessing import LabelEncoder\n",
        "label_encoder = LabelEncoder()\n",
        "encoded_labels = label_encoder.fit_transform(train['class'])\n",
        "y_train = utils.to_categorical(encoded_labels, nb_classes)"
      ],
      "metadata": {
        "id": "WGzHk-dYgWVT"
      },
      "execution_count": null,
      "outputs": []
    },
    {
      "cell_type": "code",
      "source": [
        "y_train"
      ],
      "metadata": {
        "colab": {
          "base_uri": "https://localhost:8080/"
        },
        "id": "oj0RHPK9hKxX",
        "outputId": "c3f6f16a-1b68-45c2-d264-3ce70f4c0ab6"
      },
      "execution_count": null,
      "outputs": [
        {
          "output_type": "execute_result",
          "data": {
            "text/plain": [
              "array([[1., 0., 0., 0.],\n",
              "       [0., 0., 0., 1.],\n",
              "       [0., 1., 0., 0.],\n",
              "       ...,\n",
              "       [0., 0., 1., 0.],\n",
              "       [0., 0., 1., 0.],\n",
              "       [0., 0., 0., 1.]], dtype=float32)"
            ]
          },
          "metadata": {},
          "execution_count": 68
        }
      ]
    },
    {
      "cell_type": "code",
      "source": [
        "tokenizer = Tokenizer(num_words=num_words)\n",
        "tokenizer.fit_on_texts(news)"
      ],
      "metadata": {
        "id": "ooJY_8dUhKz_"
      },
      "execution_count": null,
      "outputs": []
    },
    {
      "cell_type": "code",
      "source": [
        "sequences = tokenizer.texts_to_sequences(news)\n"
      ],
      "metadata": {
        "id": "QI6n3iArhK2e"
      },
      "execution_count": null,
      "outputs": []
    },
    {
      "cell_type": "code",
      "source": [
        "x_train = pad_sequences(sequences, maxlen=max_news_len)\n",
        "x_train[:5]\n"
      ],
      "metadata": {
        "id": "F_PDPv4DhK6a",
        "colab": {
          "base_uri": "https://localhost:8080/"
        },
        "outputId": "1d61c430-1195-41a9-e40e-edf472b9ac54"
      },
      "execution_count": null,
      "outputs": [
        {
          "output_type": "execute_result",
          "data": {
            "text/plain": [
              "array([[   0,    0,    0,    0,    0,    0,    0,    0,    0,    0,    0,\n",
              "           0,    0,    0,    0,    0,    0,    0,    0,    0,    0,    0,\n",
              "           0,    0,    0,    0,    0,    0,    0,    0,    0,    0,    0,\n",
              "           0,    0,    0,    0,    0,    0,    0,    0,    0,    0,    0,\n",
              "           0,    0,    0,    0,    0,    0,    0,    0,    0,    0,    0,\n",
              "           0,    0,    0,    0,    0,    0,    0,    0,    0,    0,    0,\n",
              "           0,    0,    0,    0,    0,    0,    0,    0,    0,    0,    0,\n",
              "           0,    0,    0,    0,    0,    0,    0,    0,    0,    0,    0,\n",
              "           0,    0,    0,    0,    0,    0,    0,    0,    0,    0,    0,\n",
              "           0,    0,    0,    0,    0,    0,    0,    0,    0,    0,    0,\n",
              "           0,    0,    0,    0,    0,    0,    0,    0,    0,    0,    0,\n",
              "           0,    0,    5, 1879,   13,   83,   19,    5,   35, 1138,    9,\n",
              "        1880,    2,   66,    9,    4,  420,    1,  300,  128,  280,   44,\n",
              "          68, 1881,   51, 1882,  115, 1883,   40, 1884,  178,   41,   33,\n",
              "           6, 1885,    3,  483,    2,  161, 1139,   84,   37,  834,  102,\n",
              "           4,  835,  667,  668,  669],\n",
              "       [   0,    0,    0,    0,    0,    0,    0,    0,    0,    0,    0,\n",
              "           0,    0,    0,    0,    0,    0,    0,    0,    0,    0,    0,\n",
              "           0,    0,    0,    0,    0,    0,    0,    0,    0,    0,    0,\n",
              "           0,    0,    0,    0,    0,    0,    0,    0,    0,    0,    0,\n",
              "           0,    0,    0,    0,    0,    0,    0,    0,    0,    0,    0,\n",
              "           0,    0,    0,    0,    0,    0,    0,    0,    0,    0,    0,\n",
              "           0,    0,    0,    0,    0,    0,    0,    0,    0,    0,    0,\n",
              "           0,    0,    0,    0,    0,    0,    0,    0,    0,    0,    0,\n",
              "           0,    0,    0,    0,    0,    0,    0,    0,    0,    0,    0,\n",
              "           0,    0,    0,    0,    0,    0,    0,    0,    0,    0,    0,\n",
              "           0,    0,    0,    0,    0,    0,    0,    0,    0,    0,    0,\n",
              "           0,    0,    0,    0,    0,    0,    0,    0,    0,    0,    0,\n",
              "           0,    0,    0,    0,    0,    0,    0,    0,    0,    0,    0,\n",
              "           0,    0,    0,    0,    0,    0,    0,  836,  202,   62,  837,\n",
              "        1140, 1886, 1887,  838,  301, 1141,   31,    4, 1888, 1889,  836,\n",
              "          25,  421,  202, 1890, 1891],\n",
              "       [   0,    0,    0,    0,    0,    0,    0,    0,    0,    0,    0,\n",
              "           0,    0,    0,    0,    0,    0,    0,    0,    0,    0,    0,\n",
              "           0,    0,    0,    0,    0,    0,    0,    0,    0,    0,    0,\n",
              "           0,    0,    0,    0,    0,    0,    0,    0,    0,    0,    0,\n",
              "           0,    0,    0,    0,    0,    0,    0,    0,    0,    0,    0,\n",
              "           0,    0,    0,    0,    0,    0,    0,    0,    0,    0,    0,\n",
              "           0,    0,    0,    0,    0,    0,    0,    0,    0,    0,    0,\n",
              "           0,    0,    0,    0,    0,    0,    0,    0,    0,    0,    0,\n",
              "           0,    0,    0,    0,    0,    0,    0,    0,    0,    0,    0,\n",
              "           0,    0,    0,    0,    0,    0,    0,    0,    0,    0,    0,\n",
              "           0,    0,    0,    0,    0,    0,    0,    0,    0,    0,    0,\n",
              "           0,    0,    0,    0,    0,    0,    0,    0,    0,    0,    0,\n",
              "           0,    0,    0,    0,    0,    0,    0,    0,    0,    0,    0,\n",
              "           0,    0,    0,    0,    0,    0,    0,    0,    0,    0,   78,\n",
              "          85,   60,    5,  422,    9,  839,   47,   12, 1892,   22, 1893,\n",
              "          13,   16, 1894, 1895, 1896],\n",
              "       [   0,    0,    0,    0,    0,    0,    0,    0,    0,    0,    0,\n",
              "           0,    0,    0,    0,    0,    0,    0,    0,    0,    0,    0,\n",
              "           0,    0,    0,    0,    0,    0,    0,    0,    0,    0,    0,\n",
              "           0,    0,    0,    0,    0,    0,    0,    0,    0,    0,    0,\n",
              "           0,    0,    0,    0,    0,    0,    0,    0,    0,    0,    0,\n",
              "           0,    0,    0,    0,    0,    0,    0,    0,    0,    0,    0,\n",
              "           0,    0,    0,    0,    0,    0,    0,    0,    0,    0,    0,\n",
              "           0,    0,    0,    0,    0,    0,    0,    0,    0,    0,    0,\n",
              "           0,    0,    0,    0,    0,    0,    0,    0,    0,    0,    0,\n",
              "           0,    0,    0,    0,    0,    0,    0,    0,    0,    0,    0,\n",
              "           0,    0,    0,    0,    0,    0,    0,    0,    0,    0,    0,\n",
              "           0,    0,    0,    0,    0,    0,    0,    0,    0,    0,    0,\n",
              "           0,    0,    0,    0,    0,    0,    0,    0,    0,    0,    0,\n",
              "           0,    0,    0,    0,    0,    0,    0,    0,    0,    0,    0,\n",
              "           0,    0,    0,  190, 1142,    7,   22,  423,    6, 1897, 1143,\n",
              "         121,    4,  560,  840,   20],\n",
              "       [   0,    0,    0,    0,    0,    0,    0,    0,    0,    0,    0,\n",
              "           0,    0,    0,    0,    0,    0,    0,    0,    0,    0,    0,\n",
              "           0,    0,    0,    0,    0,    0,    0,    0,    0,    0,    0,\n",
              "           0,    0,    0,    0,    0,    0,    0,    0,    0,    0,    0,\n",
              "           0,    0,    0,    0,    0,    0,    0,    0,    0,    0,    0,\n",
              "           0,    0,    0,    0,    0,    0,    0,    0,    0,    0,    0,\n",
              "           0,    0,    0,    0,    0,    0,    0,    0,    0,    0,    0,\n",
              "           0,    0,    0,    0,    0,    0,    0,    0,    0,    0,    0,\n",
              "           0,    0,    0,    0,    0,    0,    0,    0,    0,    0,    0,\n",
              "           0,    0,    0,    0,    0,    0,    0,    0,    0,    0,    0,\n",
              "           0,    0,    0,    0,    0,    0,    0,    0,    0,    0,    0,\n",
              "           0,    0,    0,    0,    0,    0,    0,    0,    0,    0,    0,\n",
              "           0,    0,    0,    0,    0,    0,    0,    0,   37,    1, 1144,\n",
              "           7, 1898, 1145,   11,    1,  841,   19,  179,   76,  232, 1899,\n",
              "          49, 1900, 1146,  145,  161, 1901,   42, 1902,   13,   86, 1903,\n",
              "           8,  202,  108,  561, 1904]], dtype=int32)"
            ]
          },
          "metadata": {},
          "execution_count": 71
        }
      ]
    },
    {
      "cell_type": "code",
      "source": [
        "model = Sequential()\n",
        "model.add(Embedding(num_words, 64, input_length=max_news_len))\n",
        "model.add(Conv1D(128, 5, padding='valid', activation='relu'))\n",
        "model.add(GlobalMaxPooling1D())\n",
        "model.add(Dense(64, activation='relu'))\n",
        "model.add(Dropout(0.2))\n",
        "model.add(Dense(nb_classes, activation='softmax'))"
      ],
      "metadata": {
        "id": "YSoS1YVphK9F"
      },
      "execution_count": null,
      "outputs": []
    },
    {
      "cell_type": "code",
      "source": [
        "model.compile(optimizer='adam', loss='categorical_crossentropy', metrics=['accuracy'])\n",
        "\n",
        "model.summary()\n",
        "\n",
        "model.fit(x_train, y_train, epochs=10, batch_size=128, validation_split=0.1)"
      ],
      "metadata": {
        "colab": {
          "base_uri": "https://localhost:8080/"
        },
        "id": "MUGx6W_7hYGx",
        "outputId": "45b5233c-0002-4dee-ea04-b004fd6ec377"
      },
      "execution_count": null,
      "outputs": [
        {
          "output_type": "stream",
          "name": "stdout",
          "text": [
            "Model: \"sequential_2\"\n",
            "_________________________________________________________________\n",
            " Layer (type)                Output Shape              Param #   \n",
            "=================================================================\n",
            " embedding_2 (Embedding)     (None, 170, 64)           6400000   \n",
            "                                                                 \n",
            " conv1d_2 (Conv1D)           (None, 166, 128)          41088     \n",
            "                                                                 \n",
            " global_max_pooling1d_2 (Glo  (None, 128)              0         \n",
            " balMaxPooling1D)                                                \n",
            "                                                                 \n",
            " dense_4 (Dense)             (None, 64)                8256      \n",
            "                                                                 \n",
            " dropout_2 (Dropout)         (None, 64)                0         \n",
            "                                                                 \n",
            " dense_5 (Dense)             (None, 4)                 260       \n",
            "                                                                 \n",
            "=================================================================\n",
            "Total params: 6,449,604\n",
            "Trainable params: 6,449,604\n",
            "Non-trainable params: 0\n",
            "_________________________________________________________________\n",
            "Epoch 1/10\n",
            "8/8 [==============================] - 3s 221ms/step - loss: 1.3813 - accuracy: 0.2833 - val_loss: 1.3754 - val_accuracy: 0.3600\n",
            "Epoch 2/10\n",
            "8/8 [==============================] - 2s 202ms/step - loss: 1.3483 - accuracy: 0.4300 - val_loss: 1.3748 - val_accuracy: 0.3500\n",
            "Epoch 3/10\n",
            "8/8 [==============================] - 1s 184ms/step - loss: 1.3215 - accuracy: 0.5444 - val_loss: 1.3734 - val_accuracy: 0.4400\n",
            "Epoch 4/10\n",
            "8/8 [==============================] - 2s 260ms/step - loss: 1.2911 - accuracy: 0.6656 - val_loss: 1.3655 - val_accuracy: 0.4500\n",
            "Epoch 5/10\n",
            "8/8 [==============================] - 2s 271ms/step - loss: 1.2496 - accuracy: 0.7211 - val_loss: 1.3545 - val_accuracy: 0.4300\n",
            "Epoch 6/10\n",
            "8/8 [==============================] - 2s 191ms/step - loss: 1.2039 - accuracy: 0.7556 - val_loss: 1.3380 - val_accuracy: 0.4800\n",
            "Epoch 7/10\n",
            "8/8 [==============================] - 2s 194ms/step - loss: 1.1283 - accuracy: 0.7700 - val_loss: 1.3162 - val_accuracy: 0.5000\n",
            "Epoch 8/10\n",
            "8/8 [==============================] - 2s 192ms/step - loss: 1.0347 - accuracy: 0.7933 - val_loss: 1.2980 - val_accuracy: 0.5200\n",
            "Epoch 9/10\n",
            "8/8 [==============================] - 2s 193ms/step - loss: 0.9219 - accuracy: 0.8033 - val_loss: 1.2634 - val_accuracy: 0.5300\n",
            "Epoch 10/10\n",
            "8/8 [==============================] - 2s 187ms/step - loss: 0.7774 - accuracy: 0.8333 - val_loss: 1.2233 - val_accuracy: 0.5400\n"
          ]
        },
        {
          "output_type": "execute_result",
          "data": {
            "text/plain": [
              "<keras.callbacks.History at 0x7ff72ae1bac0>"
            ]
          },
          "metadata": {},
          "execution_count": 74
        }
      ]
    },
    {
      "cell_type": "code",
      "source": [
        "model_cnn_save_path = 'modelposneg.h5'\n",
        "checkpoint_callback_cnn = ModelCheckpoint(model_cnn_save_path,\n",
        "                                      monitor='val_accuracy',\n",
        "                                      save_best_only=True,\n",
        "                                      verbose=1)"
      ],
      "metadata": {
        "id": "Ey-RfFULhYJL"
      },
      "execution_count": null,
      "outputs": []
    },
    {
      "cell_type": "code",
      "source": [
        "history_cnn = model.fit(x_train,\n",
        "                            y_train,\n",
        "                            epochs=5,\n",
        "                            batch_size=128,\n",
        "                            validation_split=0.1,\n",
        "                            callbacks=[checkpoint_callback_cnn])"
      ],
      "metadata": {
        "colab": {
          "base_uri": "https://localhost:8080/"
        },
        "id": "Qbq2QfrqhYLv",
        "outputId": "b76d9b38-cb73-4b5e-96fc-459154420343"
      },
      "execution_count": null,
      "outputs": [
        {
          "output_type": "stream",
          "name": "stdout",
          "text": [
            "Epoch 1/5\n",
            "8/8 [==============================] - ETA: 0s - loss: 0.6291 - accuracy: 0.8844\n",
            "Epoch 1: val_accuracy improved from -inf to 0.56000, saving model to modelposneg.h5\n",
            "8/8 [==============================] - 2s 224ms/step - loss: 0.6291 - accuracy: 0.8844 - val_loss: 1.1746 - val_accuracy: 0.5600\n",
            "Epoch 2/5\n",
            "8/8 [==============================] - ETA: 0s - loss: 0.4775 - accuracy: 0.9456\n",
            "Epoch 2: val_accuracy did not improve from 0.56000\n",
            "8/8 [==============================] - 2s 189ms/step - loss: 0.4775 - accuracy: 0.9456 - val_loss: 1.1399 - val_accuracy: 0.5500\n",
            "Epoch 3/5\n",
            "8/8 [==============================] - ETA: 0s - loss: 0.3503 - accuracy: 0.9700\n",
            "Epoch 3: val_accuracy did not improve from 0.56000\n",
            "8/8 [==============================] - 1s 187ms/step - loss: 0.3503 - accuracy: 0.9700 - val_loss: 1.1168 - val_accuracy: 0.5400\n",
            "Epoch 4/5\n",
            "8/8 [==============================] - ETA: 0s - loss: 0.2530 - accuracy: 0.9867\n",
            "Epoch 4: val_accuracy did not improve from 0.56000\n",
            "8/8 [==============================] - 2s 189ms/step - loss: 0.2530 - accuracy: 0.9867 - val_loss: 1.0808 - val_accuracy: 0.5500\n",
            "Epoch 5/5\n",
            "8/8 [==============================] - ETA: 0s - loss: 0.1812 - accuracy: 0.9867\n",
            "Epoch 5: val_accuracy improved from 0.56000 to 0.57000, saving model to modelposneg.h5\n",
            "8/8 [==============================] - 2s 213ms/step - loss: 0.1812 - accuracy: 0.9867 - val_loss: 1.0601 - val_accuracy: 0.5700\n"
          ]
        }
      ]
    },
    {
      "cell_type": "code",
      "source": [
        "model.load_weights(model_cnn_save_path)"
      ],
      "metadata": {
        "id": "PuK-oQZlhu1-"
      },
      "execution_count": null,
      "outputs": []
    },
    {
      "cell_type": "code",
      "source": [
        "from tensorflow import keras\n",
        "model = keras.models.load_model('modelposneg.h5')"
      ],
      "metadata": {
        "id": "OXRvf0rDhu9V"
      },
      "execution_count": null,
      "outputs": []
    },
    {
      "cell_type": "code",
      "source": [
        "news_article = \"A 38-year-old woman in the US, who was apprehended twice for allegedly trying to jump the White House fence last week, has been arrested for scaling a fence at the Treasury Building next to the White House.\"\n",
        "\n",
        "news_article_sequence = tokenizer.texts_to_sequences([news_article])\n",
        "news_article_sequence = pad_sequences(news_article_sequence, maxlen=max_news_len)\n",
        "predictions = model.predict(news_article_sequence)\n",
        "print(predictions)"
      ],
      "metadata": {
        "colab": {
          "base_uri": "https://localhost:8080/"
        },
        "id": "QdsciJy0h6mR",
        "outputId": "1523af71-b861-4412-f390-9a26c0f639b9"
      },
      "execution_count": null,
      "outputs": [
        {
          "output_type": "stream",
          "name": "stdout",
          "text": [
            "1/1 [==============================] - 0s 84ms/step\n",
            "[[0.33581215 0.17303495 0.2681341  0.22301883]]\n"
          ]
        }
      ]
    },
    {
      "cell_type": "code",
      "source": [
        "class_labels = ['Irrelevant', 'Negative', 'Positive', 'Neutral']\n",
        "predictions = model.predict(news_article_sequence)\n",
        "predicted_class_index = np.argmax(predictions)\n",
        "predicted_class_label = class_labels[predicted_class_index]\n",
        "print(\"Predicted Class:\", predicted_class_label)\n"
      ],
      "metadata": {
        "colab": {
          "base_uri": "https://localhost:8080/"
        },
        "id": "2Gi1ctyAh6pe",
        "outputId": "d3eec3fe-fd2b-41ed-f1f1-7ce6dfbe87d7"
      },
      "execution_count": null,
      "outputs": [
        {
          "output_type": "stream",
          "name": "stdout",
          "text": [
            "1/1 [==============================] - 0s 21ms/step\n",
            "Predicted Class: Irrelevant\n"
          ]
        }
      ]
    },
    {
      "cell_type": "code",
      "source": [
        "import pickle\n",
        "with open('tokenizerposneg.pickle', 'wb') as handle:\n",
        "    pickle.dump(tokenizer, handle, protocol=pickle.HIGHEST_PROTOCOL)"
      ],
      "metadata": {
        "id": "-aKbdyjLiD6q"
      },
      "execution_count": null,
      "outputs": []
    },
    {
      "cell_type": "code",
      "source": [
        "from google.colab import drive\n",
        "drive.mount('/content/drive')\n",
        "model.save('/content/drive/MyDrive/POSNEGMODEL/modelposneg.h5')\n",
        "with open('/content/drive/MyDrive/POSNEGMODEL/tokenizerposneg.pickle', 'wb') as file:\n",
        "    pickle.dump(tokenizer, file)"
      ],
      "metadata": {
        "colab": {
          "base_uri": "https://localhost:8080/"
        },
        "id": "SjcldxGBlx3f",
        "outputId": "eecaba0f-fcce-4e83-906f-90d30887e4ff"
      },
      "execution_count": null,
      "outputs": [
        {
          "output_type": "stream",
          "name": "stdout",
          "text": [
            "Mounted at /content/drive\n"
          ]
        }
      ]
    }
  ]
}